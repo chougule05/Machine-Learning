{
 "cells": [
  {
   "cell_type": "code",
   "execution_count": 1,
   "id": "e7519da2",
   "metadata": {},
   "outputs": [],
   "source": [
    "import numpy as np\n",
    "import pandas as pd\n",
    "import matplotlib.pyplot as plt\n",
    "import os\n",
    "import seaborn as sns\n",
    "import warnings\n",
    "warnings.filterwarnings(\"ignore\", category=FutureWarning)"
   ]
  },
  {
   "cell_type": "code",
   "execution_count": 2,
   "id": "a3f23512",
   "metadata": {},
   "outputs": [],
   "source": [
    "os.chdir(\"D:/CDAC/Machine Learning\")\n",
    "df = pd.read_csv('admissions.csv')"
   ]
  },
  {
   "cell_type": "code",
   "execution_count": 3,
   "id": "5492f321",
   "metadata": {},
   "outputs": [
    {
     "data": {
      "text/html": [
       "<div>\n",
       "<style scoped>\n",
       "    .dataframe tbody tr th:only-of-type {\n",
       "        vertical-align: middle;\n",
       "    }\n",
       "\n",
       "    .dataframe tbody tr th {\n",
       "        vertical-align: top;\n",
       "    }\n",
       "\n",
       "    .dataframe thead th {\n",
       "        text-align: right;\n",
       "    }\n",
       "</style>\n",
       "<table border=\"1\" class=\"dataframe\">\n",
       "  <thead>\n",
       "    <tr style=\"text-align: right;\">\n",
       "      <th></th>\n",
       "      <th>admit</th>\n",
       "      <th>gpa</th>\n",
       "      <th>gre</th>\n",
       "    </tr>\n",
       "  </thead>\n",
       "  <tbody>\n",
       "    <tr>\n",
       "      <th>0</th>\n",
       "      <td>0</td>\n",
       "      <td>3.177277</td>\n",
       "      <td>594.102992</td>\n",
       "    </tr>\n",
       "    <tr>\n",
       "      <th>1</th>\n",
       "      <td>0</td>\n",
       "      <td>3.412655</td>\n",
       "      <td>631.528607</td>\n",
       "    </tr>\n",
       "    <tr>\n",
       "      <th>2</th>\n",
       "      <td>0</td>\n",
       "      <td>2.728097</td>\n",
       "      <td>553.714399</td>\n",
       "    </tr>\n",
       "    <tr>\n",
       "      <th>3</th>\n",
       "      <td>0</td>\n",
       "      <td>3.093559</td>\n",
       "      <td>551.089985</td>\n",
       "    </tr>\n",
       "    <tr>\n",
       "      <th>4</th>\n",
       "      <td>0</td>\n",
       "      <td>3.141923</td>\n",
       "      <td>537.184894</td>\n",
       "    </tr>\n",
       "    <tr>\n",
       "      <th>...</th>\n",
       "      <td>...</td>\n",
       "      <td>...</td>\n",
       "      <td>...</td>\n",
       "    </tr>\n",
       "    <tr>\n",
       "      <th>639</th>\n",
       "      <td>1</td>\n",
       "      <td>3.381359</td>\n",
       "      <td>720.718438</td>\n",
       "    </tr>\n",
       "    <tr>\n",
       "      <th>640</th>\n",
       "      <td>1</td>\n",
       "      <td>3.083956</td>\n",
       "      <td>556.918021</td>\n",
       "    </tr>\n",
       "    <tr>\n",
       "      <th>641</th>\n",
       "      <td>1</td>\n",
       "      <td>3.114419</td>\n",
       "      <td>734.297679</td>\n",
       "    </tr>\n",
       "    <tr>\n",
       "      <th>642</th>\n",
       "      <td>1</td>\n",
       "      <td>3.549012</td>\n",
       "      <td>604.697503</td>\n",
       "    </tr>\n",
       "    <tr>\n",
       "      <th>643</th>\n",
       "      <td>1</td>\n",
       "      <td>3.532753</td>\n",
       "      <td>588.986175</td>\n",
       "    </tr>\n",
       "  </tbody>\n",
       "</table>\n",
       "<p>644 rows × 3 columns</p>\n",
       "</div>"
      ],
      "text/plain": [
       "     admit       gpa         gre\n",
       "0        0  3.177277  594.102992\n",
       "1        0  3.412655  631.528607\n",
       "2        0  2.728097  553.714399\n",
       "3        0  3.093559  551.089985\n",
       "4        0  3.141923  537.184894\n",
       "..     ...       ...         ...\n",
       "639      1  3.381359  720.718438\n",
       "640      1  3.083956  556.918021\n",
       "641      1  3.114419  734.297679\n",
       "642      1  3.549012  604.697503\n",
       "643      1  3.532753  588.986175\n",
       "\n",
       "[644 rows x 3 columns]"
      ]
     },
     "execution_count": 3,
     "metadata": {},
     "output_type": "execute_result"
    }
   ],
   "source": [
    "df"
   ]
  },
  {
   "cell_type": "code",
   "execution_count": 4,
   "id": "a3621736",
   "metadata": {},
   "outputs": [
    {
     "name": "stdout",
     "output_type": "stream",
     "text": [
      "<class 'pandas.core.frame.DataFrame'>\n",
      "RangeIndex: 644 entries, 0 to 643\n",
      "Data columns (total 3 columns):\n",
      " #   Column  Non-Null Count  Dtype  \n",
      "---  ------  --------------  -----  \n",
      " 0   admit   644 non-null    int64  \n",
      " 1   gpa     644 non-null    float64\n",
      " 2   gre     644 non-null    float64\n",
      "dtypes: float64(2), int64(1)\n",
      "memory usage: 15.2 KB\n"
     ]
    }
   ],
   "source": [
    "df.info()"
   ]
  },
  {
   "cell_type": "code",
   "execution_count": 5,
   "id": "774201e9",
   "metadata": {},
   "outputs": [
    {
     "data": {
      "text/plain": [
       "admit    0\n",
       "gpa      0\n",
       "gre      0\n",
       "dtype: int64"
      ]
     },
     "execution_count": 5,
     "metadata": {},
     "output_type": "execute_result"
    }
   ],
   "source": [
    "df.isnull().sum()"
   ]
  },
  {
   "cell_type": "code",
   "execution_count": 6,
   "id": "39b7b6db",
   "metadata": {},
   "outputs": [
    {
     "data": {
      "text/plain": [
       "(644, 3)"
      ]
     },
     "execution_count": 6,
     "metadata": {},
     "output_type": "execute_result"
    }
   ],
   "source": [
    "df.shape"
   ]
  },
  {
   "cell_type": "markdown",
   "id": "6dc78221",
   "metadata": {},
   "source": [
    "## GPA"
   ]
  },
  {
   "cell_type": "code",
   "execution_count": 7,
   "id": "e72b6b0e",
   "metadata": {},
   "outputs": [
    {
     "data": {
      "text/plain": [
       "<matplotlib.collections.PathCollection at 0x27ee3b45880>"
      ]
     },
     "execution_count": 7,
     "metadata": {},
     "output_type": "execute_result"
    },
    {
     "data": {
      "image/png": "[encoded data removed]",
      "text/plain": [
       "<Figure size 432x288 with 1 Axes>"
      ]
     },
     "metadata": {
      "needs_background": "light"
     },
     "output_type": "display_data"
    }
   ],
   "source": [
    "plt.scatter(df['gpa'],df['admit'])"
   ]
  },
  {
   "cell_type": "code",
   "execution_count": 8,
   "id": "069fa2be",
   "metadata": {},
   "outputs": [
    {
     "data": {
      "text/plain": [
       "LinearRegression()"
      ]
     },
     "execution_count": 8,
     "metadata": {},
     "output_type": "execute_result"
    }
   ],
   "source": [
    "# linear regression\n",
    "from sklearn.linear_model import LinearRegression\n",
    "lm = LinearRegression()\n",
    "lm.fit(df[['gpa']],df[['admit']])\n"
   ]
  },
  {
   "cell_type": "code",
   "execution_count": 9,
   "id": "ddc1edbc",
   "metadata": {},
   "outputs": [
    {
     "name": "stderr",
     "output_type": "stream",
     "text": [
      "C:\\Users\\Vibhishan\\anaconda3\\lib\\site-packages\\sklearn\\utils\\validation.py:63: DataConversionWarning: A column-vector y was passed when a 1d array was expected. Please change the shape of y to (n_samples, ), for example using ravel().\n",
      "  return f(*args, **kwargs)\n"
     ]
    },
    {
     "data": {
      "text/plain": [
       "LogisticRegression()"
      ]
     },
     "execution_count": 9,
     "metadata": {},
     "output_type": "execute_result"
    }
   ],
   "source": [
    "# logistic regression\n",
    "from sklearn.linear_model import LogisticRegression\n",
    "logicm = LogisticRegression()\n",
    "logicm.fit(df[['gpa']],df[['admit']])"
   ]
  },
  {
   "cell_type": "code",
   "execution_count": 10,
   "id": "c5e0d38f",
   "metadata": {},
   "outputs": [],
   "source": [
    "pred_prob_gpa = logicm.predict_proba(df[['gpa']])"
   ]
  },
  {
   "cell_type": "code",
   "execution_count": 11,
   "id": "e6a5f0bd",
   "metadata": {},
   "outputs": [
    {
     "data": {
      "text/plain": [
       "<matplotlib.collections.PathCollection at 0x27ede690040>"
      ]
     },
     "execution_count": 11,
     "metadata": {},
     "output_type": "execute_result"
    },
    {
     "data": {
      "image/png": "[encoded data removed]",
      "text/plain": [
       "<Figure size 432x288 with 1 Axes>"
      ]
     },
     "metadata": {
      "needs_background": "light"
     },
     "output_type": "display_data"
    }
   ],
   "source": [
    "plt.scatter(df['gpa'],pred_prob_gpa[:,1])"
   ]
  },
  {
   "cell_type": "code",
   "execution_count": 12,
   "id": "cc21c06a",
   "metadata": {},
   "outputs": [],
   "source": [
    "fitted_gpa = logicm.predict(df[['gpa']])"
   ]
  },
  {
   "cell_type": "code",
   "execution_count": 13,
   "id": "28a95390",
   "metadata": {},
   "outputs": [
    {
     "data": {
      "text/plain": [
       "<matplotlib.collections.PathCollection at 0x27ee4906640>"
      ]
     },
     "execution_count": 13,
     "metadata": {},
     "output_type": "execute_result"
    },
    {
     "data": {
      "image/png": "[encoded data removed]",
      "text/plain": [
       "<Figure size 432x288 with 1 Axes>"
      ]
     },
     "metadata": {
      "needs_background": "light"
     },
     "output_type": "display_data"
    }
   ],
   "source": [
    "plt.scatter(df['gpa'],fitted_gpa)"
   ]
  },
  {
   "cell_type": "markdown",
   "id": "4c3202bd",
   "metadata": {},
   "source": [
    "## GRE "
   ]
  },
  {
   "cell_type": "code",
   "execution_count": 14,
   "id": "6df17991",
   "metadata": {
    "scrolled": true
   },
   "outputs": [
    {
     "data": {
      "text/plain": [
       "<matplotlib.collections.PathCollection at 0x27ee496da00>"
      ]
     },
     "execution_count": 14,
     "metadata": {},
     "output_type": "execute_result"
    },
    {
     "data": {
      "image/png": "[encoded data removed]",
      "text/plain": [
       "<Figure size 432x288 with 1 Axes>"
      ]
     },
     "metadata": {
      "needs_background": "light"
     },
     "output_type": "display_data"
    }
   ],
   "source": [
    "plt.scatter(df['gre'],df['admit'])"
   ]
  },
  {
   "cell_type": "code",
   "execution_count": 15,
   "id": "ca3760f2",
   "metadata": {},
   "outputs": [
    {
     "data": {
      "text/plain": [
       "LinearRegression()"
      ]
     },
     "execution_count": 15,
     "metadata": {},
     "output_type": "execute_result"
    }
   ],
   "source": [
    "# linear regression\n",
    "from sklearn.linear_model import LinearRegression\n",
    "lm = LinearRegression()\n",
    "lm.fit(df[['gre']],df[['admit']])\n"
   ]
  },
  {
   "cell_type": "code",
   "execution_count": 16,
   "id": "355b991d",
   "metadata": {},
   "outputs": [
    {
     "name": "stderr",
     "output_type": "stream",
     "text": [
      "C:\\Users\\Vibhishan\\anaconda3\\lib\\site-packages\\sklearn\\utils\\validation.py:63: DataConversionWarning: A column-vector y was passed when a 1d array was expected. Please change the shape of y to (n_samples, ), for example using ravel().\n",
      "  return f(*args, **kwargs)\n"
     ]
    },
    {
     "data": {
      "text/plain": [
       "LogisticRegression()"
      ]
     },
     "execution_count": 16,
     "metadata": {},
     "output_type": "execute_result"
    }
   ],
   "source": [
    "# logistic regression\n",
    "from sklearn.linear_model import LogisticRegression\n",
    "logicm = LogisticRegression()\n",
    "logicm.fit(df[['gre']],df[['admit']])"
   ]
  },
  {
   "cell_type": "code",
   "execution_count": 17,
   "id": "dd7c479b",
   "metadata": {},
   "outputs": [],
   "source": [
    "pred_prob_gre = logicm.predict_proba(df[['gre']])"
   ]
  },
  {
   "cell_type": "code",
   "execution_count": 18,
   "id": "6c7af4d4",
   "metadata": {},
   "outputs": [
    {
     "data": {
      "text/plain": [
       "<matplotlib.collections.PathCollection at 0x27ee49cddf0>"
      ]
     },
     "execution_count": 18,
     "metadata": {},
     "output_type": "execute_result"
    },
    {
     "data": {
      "image/png": "[encoded data removed]",
      "text/plain": [
       "<Figure size 432x288 with 1 Axes>"
      ]
     },
     "metadata": {
      "needs_background": "light"
     },
     "output_type": "display_data"
    }
   ],
   "source": [
    "plt.scatter(df['gre'],pred_prob_gre[:,1])"
   ]
  },
  {
   "cell_type": "code",
   "execution_count": 19,
   "id": "ea852cd7",
   "metadata": {},
   "outputs": [],
   "source": [
    "fitted_gre = logicm.predict(df[['gre']])"
   ]
  },
  {
   "cell_type": "code",
   "execution_count": 20,
   "id": "aad879ab",
   "metadata": {},
   "outputs": [
    {
     "data": {
      "text/plain": [
       "<matplotlib.collections.PathCollection at 0x27ee4268670>"
      ]
     },
     "execution_count": 20,
     "metadata": {},
     "output_type": "execute_result"
    },
    {
     "data": {
      "image/png": "[encoded data removed]",
      "text/plain": [
       "<Figure size 432x288 with 1 Axes>"
      ]
     },
     "metadata": {
      "needs_background": "light"
     },
     "output_type": "display_data"
    }
   ],
   "source": [
    "plt.scatter(df['gre'],fitted_gre)"
   ]
  },
  {
   "cell_type": "markdown",
   "id": "ed253fbf",
   "metadata": {},
   "source": [
    "## Comparing the performance of model"
   ]
  },
  {
   "cell_type": "code",
   "execution_count": 21,
   "id": "f0da5e8c",
   "metadata": {},
   "outputs": [
    {
     "data": {
      "text/plain": [
       "0.6847826086956457"
      ]
     },
     "execution_count": 21,
     "metadata": {},
     "output_type": "execute_result"
    }
   ],
   "source": [
    "sum((fitted_gpa==df['admit'])/df.shape[0])"
   ]
  },
  {
   "cell_type": "code",
   "execution_count": 22,
   "id": "1cbf9384",
   "metadata": {},
   "outputs": [
    {
     "data": {
      "text/plain": [
       "0.7267080745341543"
      ]
     },
     "execution_count": 22,
     "metadata": {},
     "output_type": "execute_result"
    }
   ],
   "source": [
    "sum((fitted_gre==df['admit'])/df.shape[0])"
   ]
  },
  {
   "cell_type": "markdown",
   "id": "0117fcb0",
   "metadata": {},
   "source": [
    "## Combine Model"
   ]
  },
  {
   "cell_type": "code",
   "execution_count": 23,
   "id": "c2eb8285",
   "metadata": {},
   "outputs": [
    {
     "data": {
      "text/plain": [
       "LogisticRegression()"
      ]
     },
     "execution_count": 23,
     "metadata": {},
     "output_type": "execute_result"
    }
   ],
   "source": [
    "logicm2 = LogisticRegression()\n",
    "logicm2.fit(df[['gpa','gre']],df['admit'])"
   ]
  },
  {
   "cell_type": "code",
   "execution_count": 24,
   "id": "8d6d01d6",
   "metadata": {},
   "outputs": [],
   "source": [
    "pred_prob_gregpa = logicm2.predict_log_proba(df[['gpa','gre']])"
   ]
  },
  {
   "cell_type": "code",
   "execution_count": 25,
   "id": "54cd1311",
   "metadata": {},
   "outputs": [],
   "source": [
    "fitted_gregpa = logicm2.predict(df[['gpa','gre']])"
   ]
  },
  {
   "cell_type": "code",
   "execution_count": 26,
   "id": "0a47271c",
   "metadata": {},
   "outputs": [
    {
     "data": {
      "text/plain": [
       "0.7872670807453335"
      ]
     },
     "execution_count": 26,
     "metadata": {},
     "output_type": "execute_result"
    }
   ],
   "source": [
    "# Accuracy \n",
    "sum((fitted_gregpa == df['admit'])/df.shape[0])"
   ]
  },
  {
   "cell_type": "markdown",
   "id": "18c8143e",
   "metadata": {},
   "source": [
    "## GPA and GRE can predict admission chances in more better than only GPA or GRE"
   ]
  },
  {
   "cell_type": "code",
   "execution_count": null,
   "id": "dfd11124",
   "metadata": {},
   "outputs": [],
   "source": []
  }
 ],
 "metadata": {
  "kernelspec": {
   "display_name": "Python 3 (ipykernel)",
   "language": "python",
   "name": "python3"
  },
  "language_info": {
   "codemirror_mode": {
    "name": "ipython",
    "version": 3
   },
   "file_extension": ".py",
   "mimetype": "text/x-python",
   "name": "python",
   "nbconvert_exporter": "python",
   "pygments_lexer": "ipython3",
   "version": "3.9.7"
  }
 },
 "nbformat": 4,
 "nbformat_minor": 5
}
